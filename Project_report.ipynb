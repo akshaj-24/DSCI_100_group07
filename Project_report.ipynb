{
 "cells": [
  {
   "cell_type": "code",
   "execution_count": 2,
   "id": "c079d58c-6db7-47f2-878b-2f1083124f69",
   "metadata": {},
   "outputs": [],
   "source": [
    "#Loading libraries\n",
    "library(tidyverse)\n",
    "library(tidymodels)\n",
    "set.seed(1234)"
   ]
  },
  {
   "cell_type": "markdown",
   "id": "eb3171d7-4d69-4d08-9655-6047b89e0520",
   "metadata": {},
   "source": [
    "# Introduction to the dataset"
   ]
  },
  {
   "cell_type": "markdown",
   "id": "06843bbf-1704-41aa-be47-500700df065b",
   "metadata": {},
   "source": [
    "Covid-19 is a respiratory disease caused by the virus SARS-CoV 2 (BC Center for Disease Control, n.d). Throughout the recent years, this disease has impacted multiple people, through its first diagnosis in 2019. It has caused a worldwide pandemic and has impacted individuals day to day life.\n",
    "\n",
    "Coronavirus is highly contagious as it can spread from person to person very quickly. Individuals infected with this disease could experience symptoms such as shortness of breath, difficulty breathing, fever, fatigue, and much more. This disease can impact certain individuals more than others depending on preexisting health conditions.  \n",
    "\n",
    "The goal of this project is to investigate the probability of individuals being infected with Covid-19 based on existing factors such as age, sex, obesity, asthma, cardiovascular disease, and diabetes. \n",
    "\n",
    "The dataset that we will be using to address the research question is from a Covid-19 dataset that has patients symptoms, status, and medical history. We will be using certain predictors such as age, sex, obesity, asthma, cardiovascular disease, and diabetes to predict the probability of individuals being infected with coronavirus. These predictors will be further explained in the methods section. \n"
   ]
  },
  {
   "cell_type": "code",
   "execution_count": null,
   "id": "b43fa0f2-6cb1-433c-b6a2-baafa8ef00b4",
   "metadata": {},
   "outputs": [],
   "source": []
  }
 ],
 "metadata": {
  "kernelspec": {
   "display_name": "R",
   "language": "R",
   "name": "ir"
  },
  "language_info": {
   "codemirror_mode": "r",
   "file_extension": ".r",
   "mimetype": "text/x-r-source",
   "name": "R",
   "pygments_lexer": "r",
   "version": "4.3.1"
  }
 },
 "nbformat": 4,
 "nbformat_minor": 5
}
